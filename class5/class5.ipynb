{
 "cells": [
  {
   "cell_type": "code",
   "execution_count": 1,
   "id": "a47bc4c0",
   "metadata": {},
   "outputs": [],
   "source": [
    "import numpy as np\n",
    "import pandas as pd\n",
    "import matplotlib.pyplot as plt\n",
    "from sklearn.model_selection import train_test_split"
   ]
  },
  {
   "cell_type": "code",
   "execution_count": 2,
   "id": "f3ed5384",
   "metadata": {},
   "outputs": [
    {
     "name": "stdout",
     "output_type": "stream",
     "text": [
      "<class 'pandas.core.frame.DataFrame'>\n",
      "RangeIndex: 10000 entries, 0 to 9999\n",
      "Data columns (total 3 columns):\n",
      " #   Column  Non-Null Count  Dtype  \n",
      "---  ------  --------------  -----  \n",
      " 0   Gender  10000 non-null  object \n",
      " 1   Height  10000 non-null  float64\n",
      " 2   Weight  10000 non-null  float64\n",
      "dtypes: float64(2), object(1)\n",
      "memory usage: 234.5+ KB\n"
     ]
    }
   ],
   "source": [
    "df = pd.read_csv(\"https://raw.githubusercontent.com/EnggQasim/PGD_Batch2_Machine_Learning/main/class4_Regression_with_Tensorflow/weight-height.csv\",\n",
    "                encoding='cp1252')\n",
    "df.info()"
   ]
  },
  {
   "cell_type": "code",
   "execution_count": 3,
   "id": "278033a9",
   "metadata": {},
   "outputs": [
    {
     "data": {
      "text/html": [
       "<div>\n",
       "<style scoped>\n",
       "    .dataframe tbody tr th:only-of-type {\n",
       "        vertical-align: middle;\n",
       "    }\n",
       "\n",
       "    .dataframe tbody tr th {\n",
       "        vertical-align: top;\n",
       "    }\n",
       "\n",
       "    .dataframe thead th {\n",
       "        text-align: right;\n",
       "    }\n",
       "</style>\n",
       "<table border=\"1\" class=\"dataframe\">\n",
       "  <thead>\n",
       "    <tr style=\"text-align: right;\">\n",
       "      <th></th>\n",
       "      <th>Height</th>\n",
       "      <th>Weight</th>\n",
       "    </tr>\n",
       "  </thead>\n",
       "  <tbody>\n",
       "    <tr>\n",
       "      <th>count</th>\n",
       "      <td>10000.000000</td>\n",
       "      <td>10000.000000</td>\n",
       "    </tr>\n",
       "    <tr>\n",
       "      <th>mean</th>\n",
       "      <td>66.367560</td>\n",
       "      <td>161.440357</td>\n",
       "    </tr>\n",
       "    <tr>\n",
       "      <th>std</th>\n",
       "      <td>3.847528</td>\n",
       "      <td>32.108439</td>\n",
       "    </tr>\n",
       "    <tr>\n",
       "      <th>min</th>\n",
       "      <td>54.263133</td>\n",
       "      <td>64.700127</td>\n",
       "    </tr>\n",
       "    <tr>\n",
       "      <th>25%</th>\n",
       "      <td>63.505620</td>\n",
       "      <td>135.818051</td>\n",
       "    </tr>\n",
       "    <tr>\n",
       "      <th>50%</th>\n",
       "      <td>66.318070</td>\n",
       "      <td>161.212928</td>\n",
       "    </tr>\n",
       "    <tr>\n",
       "      <th>75%</th>\n",
       "      <td>69.174262</td>\n",
       "      <td>187.169525</td>\n",
       "    </tr>\n",
       "    <tr>\n",
       "      <th>max</th>\n",
       "      <td>78.998742</td>\n",
       "      <td>269.989699</td>\n",
       "    </tr>\n",
       "  </tbody>\n",
       "</table>\n",
       "</div>"
      ],
      "text/plain": [
       "             Height        Weight\n",
       "count  10000.000000  10000.000000\n",
       "mean      66.367560    161.440357\n",
       "std        3.847528     32.108439\n",
       "min       54.263133     64.700127\n",
       "25%       63.505620    135.818051\n",
       "50%       66.318070    161.212928\n",
       "75%       69.174262    187.169525\n",
       "max       78.998742    269.989699"
      ]
     },
     "execution_count": 3,
     "metadata": {},
     "output_type": "execute_result"
    }
   ],
   "source": [
    "df.describe()"
   ]
  },
  {
   "cell_type": "code",
   "execution_count": 4,
   "id": "bc0a7e21",
   "metadata": {},
   "outputs": [
    {
     "name": "stdout",
     "output_type": "stream",
     "text": [
      "Line1\n",
      "Line2\n"
     ]
    }
   ],
   "source": [
    "print('Line1')\n",
    "df\n",
    "print(\"Line2\")"
   ]
  },
  {
   "cell_type": "code",
   "execution_count": 5,
   "id": "8d408967",
   "metadata": {},
   "outputs": [
    {
     "name": "stdout",
     "output_type": "stream",
     "text": [
      "Line1\n"
     ]
    },
    {
     "data": {
      "text/html": [
       "<div>\n",
       "<style scoped>\n",
       "    .dataframe tbody tr th:only-of-type {\n",
       "        vertical-align: middle;\n",
       "    }\n",
       "\n",
       "    .dataframe tbody tr th {\n",
       "        vertical-align: top;\n",
       "    }\n",
       "\n",
       "    .dataframe thead th {\n",
       "        text-align: right;\n",
       "    }\n",
       "</style>\n",
       "<table border=\"1\" class=\"dataframe\">\n",
       "  <thead>\n",
       "    <tr style=\"text-align: right;\">\n",
       "      <th></th>\n",
       "      <th>Gender</th>\n",
       "      <th>Height</th>\n",
       "      <th>Weight</th>\n",
       "    </tr>\n",
       "  </thead>\n",
       "  <tbody>\n",
       "    <tr>\n",
       "      <th>0</th>\n",
       "      <td>Male</td>\n",
       "      <td>73.847017</td>\n",
       "      <td>241.893563</td>\n",
       "    </tr>\n",
       "    <tr>\n",
       "      <th>1</th>\n",
       "      <td>Male</td>\n",
       "      <td>68.781904</td>\n",
       "      <td>162.310473</td>\n",
       "    </tr>\n",
       "    <tr>\n",
       "      <th>2</th>\n",
       "      <td>Male</td>\n",
       "      <td>74.110105</td>\n",
       "      <td>212.740856</td>\n",
       "    </tr>\n",
       "    <tr>\n",
       "      <th>3</th>\n",
       "      <td>Male</td>\n",
       "      <td>71.730978</td>\n",
       "      <td>220.042470</td>\n",
       "    </tr>\n",
       "    <tr>\n",
       "      <th>4</th>\n",
       "      <td>Male</td>\n",
       "      <td>69.881796</td>\n",
       "      <td>206.349801</td>\n",
       "    </tr>\n",
       "    <tr>\n",
       "      <th>...</th>\n",
       "      <td>...</td>\n",
       "      <td>...</td>\n",
       "      <td>...</td>\n",
       "    </tr>\n",
       "    <tr>\n",
       "      <th>9995</th>\n",
       "      <td>Female</td>\n",
       "      <td>66.172652</td>\n",
       "      <td>136.777454</td>\n",
       "    </tr>\n",
       "    <tr>\n",
       "      <th>9996</th>\n",
       "      <td>Female</td>\n",
       "      <td>67.067155</td>\n",
       "      <td>170.867906</td>\n",
       "    </tr>\n",
       "    <tr>\n",
       "      <th>9997</th>\n",
       "      <td>Female</td>\n",
       "      <td>63.867992</td>\n",
       "      <td>128.475319</td>\n",
       "    </tr>\n",
       "    <tr>\n",
       "      <th>9998</th>\n",
       "      <td>Female</td>\n",
       "      <td>69.034243</td>\n",
       "      <td>163.852461</td>\n",
       "    </tr>\n",
       "    <tr>\n",
       "      <th>9999</th>\n",
       "      <td>Female</td>\n",
       "      <td>61.944246</td>\n",
       "      <td>113.649103</td>\n",
       "    </tr>\n",
       "  </tbody>\n",
       "</table>\n",
       "<p>10000 rows × 3 columns</p>\n",
       "</div>"
      ],
      "text/plain": [
       "      Gender     Height      Weight\n",
       "0       Male  73.847017  241.893563\n",
       "1       Male  68.781904  162.310473\n",
       "2       Male  74.110105  212.740856\n",
       "3       Male  71.730978  220.042470\n",
       "4       Male  69.881796  206.349801\n",
       "...      ...        ...         ...\n",
       "9995  Female  66.172652  136.777454\n",
       "9996  Female  67.067155  170.867906\n",
       "9997  Female  63.867992  128.475319\n",
       "9998  Female  69.034243  163.852461\n",
       "9999  Female  61.944246  113.649103\n",
       "\n",
       "[10000 rows x 3 columns]"
      ]
     },
     "metadata": {},
     "output_type": "display_data"
    },
    {
     "name": "stdout",
     "output_type": "stream",
     "text": [
      "Line2\n"
     ]
    }
   ],
   "source": [
    "print('Line1')\n",
    "display(df)\n",
    "print(\"Line2\")"
   ]
  },
  {
   "cell_type": "code",
   "execution_count": 6,
   "id": "2ae5e412",
   "metadata": {},
   "outputs": [
    {
     "data": {
      "text/plain": [
       "'Pakistan'"
      ]
     },
     "metadata": {},
     "output_type": "display_data"
    }
   ],
   "source": [
    "display(\"Pakistan\")"
   ]
  },
  {
   "cell_type": "code",
   "execution_count": 7,
   "id": "d2ff2529",
   "metadata": {},
   "outputs": [
    {
     "name": "stdout",
     "output_type": "stream",
     "text": [
      "      Gender     Height      Weight\n",
      "0       Male  73.847017  241.893563\n",
      "1       Male  68.781904  162.310473\n",
      "2       Male  74.110105  212.740856\n",
      "3       Male  71.730978  220.042470\n",
      "4       Male  69.881796  206.349801\n",
      "...      ...        ...         ...\n",
      "9995  Female  66.172652  136.777454\n",
      "9996  Female  67.067155  170.867906\n",
      "9997  Female  63.867992  128.475319\n",
      "9998  Female  69.034243  163.852461\n",
      "9999  Female  61.944246  113.649103\n",
      "\n",
      "[10000 rows x 3 columns]\n"
     ]
    }
   ],
   "source": [
    "print(df)"
   ]
  },
  {
   "cell_type": "code",
   "execution_count": 8,
   "id": "af84308d",
   "metadata": {},
   "outputs": [
    {
     "name": "stdout",
     "output_type": "stream",
     "text": [
      "(10000,)\n",
      "(10000,)\n"
     ]
    }
   ],
   "source": [
    "X , Y = df.Height.values, df.Weight.values\n",
    "print(X.shape)\n",
    "print(Y.shape)"
   ]
  },
  {
   "cell_type": "code",
   "execution_count": 9,
   "id": "e026e580",
   "metadata": {},
   "outputs": [
    {
     "data": {
      "text/plain": [
       "73.847017017515"
      ]
     },
     "execution_count": 9,
     "metadata": {},
     "output_type": "execute_result"
    }
   ],
   "source": [
    "X[0]# output scaler value [241.893563180437]"
   ]
  },
  {
   "cell_type": "code",
   "execution_count": 10,
   "id": "6ff0fb65",
   "metadata": {},
   "outputs": [
    {
     "data": {
      "text/plain": [
       "241.893563180437"
      ]
     },
     "execution_count": 10,
     "metadata": {},
     "output_type": "execute_result"
    }
   ],
   "source": [
    "Y[0]"
   ]
  },
  {
   "cell_type": "code",
   "execution_count": 11,
   "id": "31346a68",
   "metadata": {},
   "outputs": [],
   "source": [
    "X = X.reshape(10000,-1)"
   ]
  },
  {
   "cell_type": "raw",
   "id": "016136f5",
   "metadata": {},
   "source": [
    "a = np.arange(1,101)\n",
    "a"
   ]
  },
  {
   "cell_type": "raw",
   "id": "6f9bc51c",
   "metadata": {},
   "source": [
    "a.reshape(10,10)"
   ]
  },
  {
   "cell_type": "raw",
   "id": "fee4612a",
   "metadata": {},
   "source": [
    "a.reshape(20,-1)"
   ]
  },
  {
   "cell_type": "code",
   "execution_count": 12,
   "id": "bf7c18d2",
   "metadata": {},
   "outputs": [
    {
     "data": {
      "text/plain": [
       "array([[73.84701702],\n",
       "       [68.78190405],\n",
       "       [74.11010539],\n",
       "       ...,\n",
       "       [63.86799221],\n",
       "       [69.03424313],\n",
       "       [61.94424588]])"
      ]
     },
     "execution_count": 12,
     "metadata": {},
     "output_type": "execute_result"
    }
   ],
   "source": [
    "X"
   ]
  },
  {
   "cell_type": "code",
   "execution_count": 13,
   "id": "ce2d0f9e",
   "metadata": {},
   "outputs": [
    {
     "data": {
      "text/plain": [
       "array([73.84701702])"
      ]
     },
     "execution_count": 13,
     "metadata": {},
     "output_type": "execute_result"
    }
   ],
   "source": [
    "X[0]"
   ]
  },
  {
   "cell_type": "code",
   "execution_count": 14,
   "id": "475242a3",
   "metadata": {},
   "outputs": [
    {
     "name": "stdout",
     "output_type": "stream",
     "text": [
      "X shape (10000, 1)\n",
      "y shape (10000,)\n"
     ]
    }
   ],
   "source": [
    "print(\"X shape\",X.shape)\n",
    "print(\"y shape\",Y.shape)"
   ]
  },
  {
   "cell_type": "raw",
   "id": "b34202a6",
   "metadata": {},
   "source": [
    "l1 =[1,2,3]\n",
    "print(l1[0],l1[1],l1[2])"
   ]
  },
  {
   "cell_type": "raw",
   "id": "65040010",
   "metadata": {},
   "source": [
    "print(*l1)"
   ]
  },
  {
   "cell_type": "raw",
   "id": "7393022c",
   "metadata": {},
   "source": [
    "print(l1)"
   ]
  },
  {
   "cell_type": "raw",
   "id": "9e62fb34",
   "metadata": {},
   "source": [
    "a,b,c =[1,2,3]\n",
    "print(a)\n",
    "print(b)\n",
    "print(c)"
   ]
  },
  {
   "cell_type": "raw",
   "id": "f47bfdea",
   "metadata": {},
   "source": [
    "l1 = [1,2,3]\n",
    "l1[0] = 20\n",
    "print(l1)"
   ]
  },
  {
   "cell_type": "raw",
   "id": "3935ecae",
   "metadata": {},
   "source": [
    "l1 = (1,2,3)\n",
    "l1[0] = 20\n",
    "print(l1)"
   ]
  },
  {
   "cell_type": "code",
   "execution_count": 15,
   "id": "fc8f2bd1",
   "metadata": {},
   "outputs": [],
   "source": [
    "X_train, X_test, Y_train, Y_test = train_test_split(X,Y, train_size=0.8, shuffle=False)"
   ]
  },
  {
   "cell_type": "code",
   "execution_count": 20,
   "id": "1ad82aa6",
   "metadata": {},
   "outputs": [
    {
     "name": "stdout",
     "output_type": "stream",
     "text": [
      "X \"Train\" length: 8000\n",
      "X Test length: 2000\n",
      "Y Test length: 8000\n",
      "Y Test length: 2000\n"
     ]
    }
   ],
   "source": [
    "print(\"X \\\"Train\\\" length:\", len(X_train))\n",
    "print(\"X Test length:\", len(X_test))\n",
    "\n",
    "print(\"Y Test length:\", len(Y_train))\n",
    "print(\"Y Test length:\", len(Y_test))"
   ]
  },
  {
   "cell_type": "markdown",
   "id": "1717753e",
   "metadata": {},
   "source": [
    "# Create ML Model with SKLearn"
   ]
  },
  {
   "cell_type": "code",
   "execution_count": 23,
   "id": "5509fd58",
   "metadata": {},
   "outputs": [],
   "source": [
    "from sklearn.linear_model import LinearRegression"
   ]
  },
  {
   "cell_type": "code",
   "execution_count": 24,
   "id": "d88499d7",
   "metadata": {},
   "outputs": [],
   "source": [
    "# create model instance\n",
    "reg = LinearRegression()\n"
   ]
  },
  {
   "cell_type": "code",
   "execution_count": 25,
   "id": "69d8738b",
   "metadata": {},
   "outputs": [
    {
     "data": {
      "text/plain": [
       "LinearRegression()"
      ]
     },
     "execution_count": 25,
     "metadata": {},
     "output_type": "execute_result"
    }
   ],
   "source": [
    "reg.fit(X_train, Y_train)# input and output"
   ]
  },
  {
   "cell_type": "code",
   "execution_count": 33,
   "id": "b9d5b3af",
   "metadata": {},
   "outputs": [
    {
     "data": {
      "text/plain": [
       "array([127.13543206, 122.02537789, 113.11357756, ..., 143.60698606,\n",
       "       183.10645755, 128.89864829])"
      ]
     },
     "execution_count": 33,
     "metadata": {},
     "output_type": "execute_result"
    }
   ],
   "source": [
    "y_predict = reg.predict(X_test)# only provid input\n",
    "y_predict"
   ]
  },
  {
   "cell_type": "code",
   "execution_count": 34,
   "id": "ce6212b9",
   "metadata": {},
   "outputs": [
    {
     "name": "stdout",
     "output_type": "stream",
     "text": [
      "Test sample1 [61.71362969]\n",
      "Test sample1 Acutal Weight 118.513012930273\n",
      "Predict sample1 Weight 127.1354320591712\n"
     ]
    }
   ],
   "source": [
    "print(\"Test sample1\", X_test[0])\n",
    "print(\"Test sample1 Acutal Weight\", Y_test[0])\n",
    "print(\"Predict sample1 Weight\", y_predict[0])"
   ]
  },
  {
   "cell_type": "code",
   "execution_count": 35,
   "id": "4f835adf",
   "metadata": {},
   "outputs": [
    {
     "data": {
      "text/plain": [
       "<matplotlib.collections.PathCollection at 0x19f80e2d280>"
      ]
     },
     "execution_count": 35,
     "metadata": {},
     "output_type": "execute_result"
    },
    {
     "data": {
      "image/png": "[encoded data removed]",
      "text/plain": [
       "<Figure size 432x288 with 1 Axes>"
      ]
     },
     "metadata": {
      "needs_background": "light"
     },
     "output_type": "display_data"
    }
   ],
   "source": [
    "plt.scatter(X_train,Y_train)"
   ]
  },
  {
   "cell_type": "code",
   "execution_count": 37,
   "id": "88048e4e",
   "metadata": {},
   "outputs": [
    {
     "data": {
      "text/plain": [
       "<matplotlib.collections.PathCollection at 0x19f81c1dbe0>"
      ]
     },
     "execution_count": 37,
     "metadata": {},
     "output_type": "execute_result"
    },
    {
     "data": {
      "image/png": "[encoded data removed]",
      "text/plain": [
       "<Figure size 432x288 with 1 Axes>"
      ]
     },
     "metadata": {
      "needs_background": "light"
     },
     "output_type": "display_data"
    }
   ],
   "source": [
    "plt.scatter(X_test,y_predict)"
   ]
  },
  {
   "cell_type": "code",
   "execution_count": 38,
   "id": "9e352f9b",
   "metadata": {},
   "outputs": [
    {
     "data": {
      "text/plain": [
       "<matplotlib.collections.PathCollection at 0x19f81ba2520>"
      ]
     },
     "execution_count": 38,
     "metadata": {},
     "output_type": "execute_result"
    },
    {
     "data": {
      "image/png": "[encoded data removed]",
      "text/plain": [
       "<Figure size 432x288 with 1 Axes>"
      ]
     },
     "metadata": {
      "needs_background": "light"
     },
     "output_type": "display_data"
    }
   ],
   "source": [
    "plt.scatter(X_test,Y_test)"
   ]
  },
  {
   "cell_type": "code",
   "execution_count": 39,
   "id": "c12d3613",
   "metadata": {},
   "outputs": [
    {
     "data": {
      "text/plain": [
       "array([7.64567423])"
      ]
     },
     "execution_count": 39,
     "metadata": {},
     "output_type": "execute_result"
    }
   ],
   "source": [
    "reg.coef_"
   ]
  },
  {
   "cell_type": "code",
   "execution_count": 40,
   "id": "32764cd7",
   "metadata": {},
   "outputs": [
    {
     "data": {
      "text/plain": [
       "-344.7068759810395"
      ]
     },
     "execution_count": 40,
     "metadata": {},
     "output_type": "execute_result"
    }
   ],
   "source": [
    "reg.intercept_"
   ]
  },
  {
   "cell_type": "code",
   "execution_count": 42,
   "id": "87e132ac",
   "metadata": {},
   "outputs": [
    {
     "data": {
      "text/plain": [
       "{'copy_X': True,\n",
       " 'fit_intercept': True,\n",
       " 'n_jobs': None,\n",
       " 'normalize': False,\n",
       " 'positive': False}"
      ]
     },
     "execution_count": 42,
     "metadata": {},
     "output_type": "execute_result"
    }
   ],
   "source": [
    "reg.get_params()"
   ]
  },
  {
   "cell_type": "code",
   "execution_count": 43,
   "id": "935b3fee",
   "metadata": {},
   "outputs": [
    {
     "data": {
      "text/plain": [
       "0.5455315709052627"
      ]
     },
     "execution_count": 43,
     "metadata": {},
     "output_type": "execute_result"
    }
   ],
   "source": [
    "reg.score(X_test,Y_test)"
   ]
  },
  {
   "cell_type": "code",
   "execution_count": 47,
   "id": "4951a241",
   "metadata": {},
   "outputs": [
    {
     "data": {
      "text/plain": [
       "1.0"
      ]
     },
     "execution_count": 47,
     "metadata": {},
     "output_type": "execute_result"
    }
   ],
   "source": [
    "reg.score(X_test,y_predict)\n",
    "# R Square regression"
   ]
  },
  {
   "cell_type": "markdown",
   "id": "a83c9757",
   "metadata": {},
   "source": [
    "# Apply Regression on Booston House data"
   ]
  },
  {
   "cell_type": "code",
   "execution_count": 52,
   "id": "461c2a97",
   "metadata": {},
   "outputs": [
    {
     "name": "stdout",
     "output_type": "stream",
     "text": [
      "506\n",
      "506\n"
     ]
    }
   ],
   "source": [
    "import warnings\n",
    "from sklearn.datasets import load_boston\n",
    "with warnings.catch_warnings():\n",
    "    warnings.filterwarnings('ignore')\n",
    "    X, Y = load_boston(return_X_y=True)\n",
    "    \n",
    "print(len(X))\n",
    "print(len(Y))"
   ]
  },
  {
   "cell_type": "code",
   "execution_count": 53,
   "id": "f517ad13",
   "metadata": {},
   "outputs": [],
   "source": [
    "import warnings\n",
    "from sklearn.datasets import load_boston\n",
    "X, Y = load_boston(return_X_y=True)"
   ]
  },
  {
   "cell_type": "code",
   "execution_count": 55,
   "id": "2a5e34c9",
   "metadata": {},
   "outputs": [
    {
     "data": {
      "text/plain": [
       "array([6.320e-03, 1.800e+01, 2.310e+00, 0.000e+00, 5.380e-01, 6.575e+00,\n",
       "       6.520e+01, 4.090e+00, 1.000e+00, 2.960e+02, 1.530e+01, 3.969e+02,\n",
       "       4.980e+00])"
      ]
     },
     "execution_count": 55,
     "metadata": {},
     "output_type": "execute_result"
    }
   ],
   "source": [
    "X[0]"
   ]
  },
  {
   "cell_type": "code",
   "execution_count": 56,
   "id": "2ea76038",
   "metadata": {},
   "outputs": [
    {
     "name": "stdout",
     "output_type": "stream",
     "text": [
      "13\n"
     ]
    }
   ],
   "source": [
    "print(len(X[0]))"
   ]
  },
  {
   "cell_type": "markdown",
   "id": "61bf05f0",
   "metadata": {},
   "source": [
    "# Attendance"
   ]
  },
  {
   "cell_type": "code",
   "execution_count": 60,
   "id": "82ebb35e",
   "metadata": {},
   "outputs": [
    {
     "data": {
      "text/html": [
       "<div>\n",
       "<style scoped>\n",
       "    .dataframe tbody tr th:only-of-type {\n",
       "        vertical-align: middle;\n",
       "    }\n",
       "\n",
       "    .dataframe tbody tr th {\n",
       "        vertical-align: top;\n",
       "    }\n",
       "\n",
       "    .dataframe thead th {\n",
       "        text-align: right;\n",
       "    }\n",
       "</style>\n",
       "<table border=\"1\" class=\"dataframe\">\n",
       "  <thead>\n",
       "    <tr style=\"text-align: right;\">\n",
       "      <th></th>\n",
       "      <th>CNIC</th>\n",
       "      <th>CNIC1</th>\n",
       "    </tr>\n",
       "  </thead>\n",
       "  <tbody>\n",
       "    <tr>\n",
       "      <th>0</th>\n",
       "      <td>4220171026219</td>\n",
       "      <td>42201-7102621-9</td>\n",
       "    </tr>\n",
       "    <tr>\n",
       "      <th>1</th>\n",
       "      <td>4220105920780</td>\n",
       "      <td>42201-0592078-0</td>\n",
       "    </tr>\n",
       "    <tr>\n",
       "      <th>2</th>\n",
       "      <td>4210117498405</td>\n",
       "      <td>42101-1749840-5</td>\n",
       "    </tr>\n",
       "    <tr>\n",
       "      <th>3</th>\n",
       "      <td>4210168710111</td>\n",
       "      <td>42101-6871011-1</td>\n",
       "    </tr>\n",
       "    <tr>\n",
       "      <th>4</th>\n",
       "      <td>4130485196673</td>\n",
       "      <td>41304-8519667-3</td>\n",
       "    </tr>\n",
       "    <tr>\n",
       "      <th>5</th>\n",
       "      <td>4230174256393</td>\n",
       "      <td>42301-7425639-3</td>\n",
       "    </tr>\n",
       "    <tr>\n",
       "      <th>6</th>\n",
       "      <td>4230181544787</td>\n",
       "      <td>42301-8154478-7</td>\n",
       "    </tr>\n",
       "    <tr>\n",
       "      <th>7</th>\n",
       "      <td>4220102620907</td>\n",
       "      <td>42201-0262090-7</td>\n",
       "    </tr>\n",
       "    <tr>\n",
       "      <th>8</th>\n",
       "      <td>4250189782769</td>\n",
       "      <td>42501-8978276-9</td>\n",
       "    </tr>\n",
       "    <tr>\n",
       "      <th>9</th>\n",
       "      <td>4210113978763</td>\n",
       "      <td>42101-1397876-3</td>\n",
       "    </tr>\n",
       "    <tr>\n",
       "      <th>10</th>\n",
       "      <td>4220186465696</td>\n",
       "      <td>42201-8646569-6</td>\n",
       "    </tr>\n",
       "    <tr>\n",
       "      <th>11</th>\n",
       "      <td>5440053241639</td>\n",
       "      <td>54400-5324163-9</td>\n",
       "    </tr>\n",
       "    <tr>\n",
       "      <th>12</th>\n",
       "      <td>1234567890123</td>\n",
       "      <td>12345-6789012-3</td>\n",
       "    </tr>\n",
       "    <tr>\n",
       "      <th>13</th>\n",
       "      <td>4210176950677</td>\n",
       "      <td>42101-7695067-7</td>\n",
       "    </tr>\n",
       "    <tr>\n",
       "      <th>14</th>\n",
       "      <td>4220122191357</td>\n",
       "      <td>42201-2219135-7</td>\n",
       "    </tr>\n",
       "    <tr>\n",
       "      <th>15</th>\n",
       "      <td>4210175758189</td>\n",
       "      <td>42101-7575818-9</td>\n",
       "    </tr>\n",
       "    <tr>\n",
       "      <th>16</th>\n",
       "      <td>4230123587896</td>\n",
       "      <td>42301-2358789-6</td>\n",
       "    </tr>\n",
       "    <tr>\n",
       "      <th>17</th>\n",
       "      <td>3460348242756</td>\n",
       "      <td>34603-4824275-6</td>\n",
       "    </tr>\n",
       "    <tr>\n",
       "      <th>18</th>\n",
       "      <td>4250182298545</td>\n",
       "      <td>42501-8229854-5</td>\n",
       "    </tr>\n",
       "    <tr>\n",
       "      <th>19</th>\n",
       "      <td>3310541597331</td>\n",
       "      <td>33105-4159733-1</td>\n",
       "    </tr>\n",
       "  </tbody>\n",
       "</table>\n",
       "</div>"
      ],
      "text/plain": [
       "             CNIC            CNIC1\n",
       "0   4220171026219  42201-7102621-9\n",
       "1   4220105920780  42201-0592078-0\n",
       "2   4210117498405  42101-1749840-5\n",
       "3   4210168710111  42101-6871011-1\n",
       "4   4130485196673  41304-8519667-3\n",
       "5   4230174256393  42301-7425639-3\n",
       "6   4230181544787  42301-8154478-7\n",
       "7   4220102620907  42201-0262090-7\n",
       "8   4250189782769  42501-8978276-9\n",
       "9   4210113978763  42101-1397876-3\n",
       "10  4220186465696  42201-8646569-6\n",
       "11  5440053241639  54400-5324163-9\n",
       "12  1234567890123  12345-6789012-3\n",
       "13  4210176950677  42101-7695067-7\n",
       "14  4220122191357  42201-2219135-7\n",
       "15  4210175758189  42101-7575818-9\n",
       "16  4230123587896  42301-2358789-6\n",
       "17  3460348242756  34603-4824275-6\n",
       "18  4250182298545  42501-8229854-5\n",
       "19  3310541597331  33105-4159733-1"
      ]
     },
     "metadata": {},
     "output_type": "display_data"
    }
   ],
   "source": [
    "x = \"\"\"\n",
    "syed daniyal4:26 PM\n",
    "please repeat once again\n",
    "Amna Shahid4:28 PM\n",
    "Heroku\n",
    "Amna Shahid4:31 PM\n",
    "Django\n",
    "Flask\n",
    "Streamlite\n",
    "Syed Umair Ahmed4:31 PM\n",
    "web hosting\n",
    "Syed Umair Ahmed4:34 PM\n",
    "sir mjhe ap k lectures nhi mil rhe the kaal\n",
    "TARIQ JAMIL4:34 PM\n",
    "will let you know after class\n",
    "syed daniyal4:34 PM\n",
    "when we are searching anything like shampoo, cars purchase, any other thing so it appears on facebook, google  and youtube\n",
    "Amna Shahid4:35 PM\n",
    "https://github.com/EnggQasim/PGD_Batch2_Machine_Learning\n",
    "@Syed Umair Ahmed\n",
    "Syed Umair Ahmed4:36 PM\n",
    "kaal nhi desakti thi\n",
    "syed daniyal4:40 PM\n",
    "can you please do hands-on practice on search engine like ML AND AI?\n",
    "if we have raw form data and so how would i clean the data ?\n",
    "syed daniyal4:41 PM\n",
    "which type of algorithm we applied on these mentioned queries ?\n",
    "syed daniyal4:44 PM\n",
    "how to recognize any person or any object from video clip? can you please elaborate briefly?\n",
    "syed daniyal4:49 PM\n",
    "when i use the command on kernal firstly it works but after it showed an error\n",
    "syed daniyal4:51 PM\n",
    "please anyone can read my last message and convey my message to sir thanks\n",
    "syed daniyal4:56 PM\n",
    "what is cp1252? and why we use encoding\n",
    "what is float64?\n",
    "Amna Shahid4:57 PM\n",
    "data type\n",
    "syed daniyal4:58 PM\n",
    "Generate descriptive statistics. Descriptive statistics include those that summarize the central tendency, dispersion and shape of a dataset's distribution, .\n",
    "syed daniyal4:59 PM\n",
    "the separation of radiation into components in accordance with some varying characteristic\n",
    "syed daniyal5:01 PM\n",
    "why we print every function or every line  individually instead of print all the statement??\n",
    "can anyone ask this from sir?\n",
    "*question\n",
    "syed daniyal5:05 PM\n",
    "yes sir, i got it\n",
    "syed daniyal5:17 PM\n",
    "when i download flask its shows an error on anaconda kindly guide this\n",
    "syed daniyal5:23 PM\n",
    "what is the difference between tupple or list ?\n",
    "syed daniyal5:36 PM\n",
    "as i download the file from kaggle gender submission i have some issues\n",
    "like i have some issue on graphs is now working\n",
    "Amna Shahid6:02 PM\n",
    "do we have to define reg.score?\n",
    "syed daniyal6:03 PM\n",
    "please upload assignment on google class room\n",
    "Amna Shahid6:11 PM\n",
    "3460348242756\n",
    "Bilal Uddin6:11 PM\n",
    "4220122191357\n",
    "Agha Zohaib6:11 PM\n",
    "4210168710111\n",
    "Syeda Zehra Nadeem6:11 PM\n",
    "4230123587896\n",
    "Madiha Obaid Obaid6:11 PM\n",
    "4220105920780\n",
    "MUSTAFA NADIMI6:11 PM\n",
    "5440053241639\n",
    "Syed Zaim Nazir6:11 PM\n",
    "4220171026219\n",
    "Zoya Ansari6:11 PM\n",
    "4220186465696\n",
    "Kenneth Fahad6:11 PM\n",
    "3310541597331\n",
    "Syed Umair Ahmed6:11 PM\n",
    "4130485196673\n",
    "Rizwan Ali6:11 PM\n",
    "4230174256393\n",
    "Atif Ismail6:11 PM\n",
    "4220102620907\n",
    "Atif Ismail\n",
    "Syed Abbas Abbas6:11 PM\n",
    "1234567890123\n",
    "syed daniyal6:11 PM\n",
    "4250189782769\n",
    "Farrukh Jalil6:11 PM\n",
    "4210113978763\n",
    "TARIQ JAMIL6:12 PM\n",
    "4250182298545\n",
    "Muneeb Abdul Rauf6:12 PM\n",
    "4230181544787\n",
    "Imran Ali6:12 PM\n",
    "4210176950677\n",
    "Muhammad Fahad6:13 PM\n",
    "4210117498405\n",
    "Abdullah Mukhtar6:13 PM\n",
    "4210175758189\n",
    "mcc-qjtf-rix\n",
    "\"\"\".replace(\"-\",\"\")\n",
    "import re\n",
    "\n",
    "cnic = pd.DataFrame(list(set(re.findall(\"\\d{13}\",x))), columns=['CNIC'])\n",
    "def cnic_format(x):\n",
    "    return x[:5] + \"-\" +x[5:12] + \"-\" +x[12:]\n",
    "cnic['CNIC1'] = cnic.CNIC.apply(cnic_format)\n",
    "\n",
    "display(cnic)"
   ]
  },
  {
   "cell_type": "code",
   "execution_count": null,
   "id": "3c4aaa14",
   "metadata": {},
   "outputs": [],
   "source": []
  },
  {
   "cell_type": "code",
   "execution_count": null,
   "id": "37d4d085",
   "metadata": {},
   "outputs": [],
   "source": []
  },
  {
   "cell_type": "code",
   "execution_count": null,
   "id": "395d518d",
   "metadata": {},
   "outputs": [],
   "source": []
  },
  {
   "cell_type": "code",
   "execution_count": null,
   "id": "5d669f6c",
   "metadata": {},
   "outputs": [],
   "source": []
  },
  {
   "cell_type": "code",
   "execution_count": null,
   "id": "1e744a7c",
   "metadata": {},
   "outputs": [],
   "source": []
  }
 ],
 "metadata": {
  "kernelspec": {
   "display_name": "Python 3 (ipykernel)",
   "language": "python",
   "name": "python3"
  },
  "language_info": {
   "codemirror_mode": {
    "name": "ipython",
    "version": 3
   },
   "file_extension": ".py",
   "mimetype": "text/x-python",
   "name": "python",
   "nbconvert_exporter": "python",
   "pygments_lexer": "ipython3",
   "version": "3.9.7"
  }
 },
 "nbformat": 4,
 "nbformat_minor": 5
}
