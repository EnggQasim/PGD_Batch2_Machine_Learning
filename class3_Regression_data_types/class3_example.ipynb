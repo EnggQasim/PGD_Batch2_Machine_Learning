{
 "cells": [
  {
   "cell_type": "markdown",
   "metadata": {},
   "source": [
    "# Data"
   ]
  },
  {
   "cell_type": "code",
   "execution_count": 1,
   "metadata": {},
   "outputs": [],
   "source": [
    "import numpy as np"
   ]
  },
  {
   "cell_type": "code",
   "execution_count": 2,
   "metadata": {},
   "outputs": [
    {
     "data": {
      "text/plain": [
       "array([1.        , 1.11111111, 1.22222222, 1.33333333, 1.44444444,\n",
       "       1.55555556, 1.66666667, 1.77777778, 1.88888889, 2.        ])"
      ]
     },
     "execution_count": 2,
     "metadata": {},
     "output_type": "execute_result"
    }
   ],
   "source": [
    "np.linspace(1,2,10)"
   ]
  },
  {
   "cell_type": "code",
   "execution_count": 4,
   "metadata": {},
   "outputs": [
    {
     "data": {
      "text/plain": [
       "array([1.        , 1.001001  , 1.002002  , 1.003003  , 1.004004  ,\n",
       "       1.00500501, 1.00600601, 1.00700701, 1.00800801, 1.00900901,\n",
       "       1.01001001, 1.01101101, 1.01201201, 1.01301301, 1.01401401,\n",
       "       1.01501502, 1.01601602, 1.01701702, 1.01801802, 1.01901902,\n",
       "       1.02002002, 1.02102102, 1.02202202, 1.02302302, 1.02402402,\n",
       "       1.02502503, 1.02602603, 1.02702703, 1.02802803, 1.02902903,\n",
       "       1.03003003, 1.03103103, 1.03203203, 1.03303303, 1.03403403,\n",
       "       1.03503504, 1.03603604, 1.03703704, 1.03803804, 1.03903904,\n",
       "       1.04004004, 1.04104104, 1.04204204, 1.04304304, 1.04404404,\n",
       "       1.04504505, 1.04604605, 1.04704705, 1.04804805, 1.04904905,\n",
       "       1.05005005, 1.05105105, 1.05205205, 1.05305305, 1.05405405,\n",
       "       1.05505506, 1.05605606, 1.05705706, 1.05805806, 1.05905906,\n",
       "       1.06006006, 1.06106106, 1.06206206, 1.06306306, 1.06406406,\n",
       "       1.06506507, 1.06606607, 1.06706707, 1.06806807, 1.06906907,\n",
       "       1.07007007, 1.07107107, 1.07207207, 1.07307307, 1.07407407,\n",
       "       1.07507508, 1.07607608, 1.07707708, 1.07807808, 1.07907908,\n",
       "       1.08008008, 1.08108108, 1.08208208, 1.08308308, 1.08408408,\n",
       "       1.08508509, 1.08608609, 1.08708709, 1.08808809, 1.08908909,\n",
       "       1.09009009, 1.09109109, 1.09209209, 1.09309309, 1.09409409,\n",
       "       1.0950951 , 1.0960961 , 1.0970971 , 1.0980981 , 1.0990991 ,\n",
       "       1.1001001 , 1.1011011 , 1.1021021 , 1.1031031 , 1.1041041 ,\n",
       "       1.10510511, 1.10610611, 1.10710711, 1.10810811, 1.10910911,\n",
       "       1.11011011, 1.11111111, 1.11211211, 1.11311311, 1.11411411,\n",
       "       1.11511512, 1.11611612, 1.11711712, 1.11811812, 1.11911912,\n",
       "       1.12012012, 1.12112112, 1.12212212, 1.12312312, 1.12412412,\n",
       "       1.12512513, 1.12612613, 1.12712713, 1.12812813, 1.12912913,\n",
       "       1.13013013, 1.13113113, 1.13213213, 1.13313313, 1.13413413,\n",
       "       1.13513514, 1.13613614, 1.13713714, 1.13813814, 1.13913914,\n",
       "       1.14014014, 1.14114114, 1.14214214, 1.14314314, 1.14414414,\n",
       "       1.14514515, 1.14614615, 1.14714715, 1.14814815, 1.14914915,\n",
       "       1.15015015, 1.15115115, 1.15215215, 1.15315315, 1.15415415,\n",
       "       1.15515516, 1.15615616, 1.15715716, 1.15815816, 1.15915916,\n",
       "       1.16016016, 1.16116116, 1.16216216, 1.16316316, 1.16416416,\n",
       "       1.16516517, 1.16616617, 1.16716717, 1.16816817, 1.16916917,\n",
       "       1.17017017, 1.17117117, 1.17217217, 1.17317317, 1.17417417,\n",
       "       1.17517518, 1.17617618, 1.17717718, 1.17817818, 1.17917918,\n",
       "       1.18018018, 1.18118118, 1.18218218, 1.18318318, 1.18418418,\n",
       "       1.18518519, 1.18618619, 1.18718719, 1.18818819, 1.18918919,\n",
       "       1.19019019, 1.19119119, 1.19219219, 1.19319319, 1.19419419,\n",
       "       1.1951952 , 1.1961962 , 1.1971972 , 1.1981982 , 1.1991992 ,\n",
       "       1.2002002 , 1.2012012 , 1.2022022 , 1.2032032 , 1.2042042 ,\n",
       "       1.20520521, 1.20620621, 1.20720721, 1.20820821, 1.20920921,\n",
       "       1.21021021, 1.21121121, 1.21221221, 1.21321321, 1.21421421,\n",
       "       1.21521522, 1.21621622, 1.21721722, 1.21821822, 1.21921922,\n",
       "       1.22022022, 1.22122122, 1.22222222, 1.22322322, 1.22422422,\n",
       "       1.22522523, 1.22622623, 1.22722723, 1.22822823, 1.22922923,\n",
       "       1.23023023, 1.23123123, 1.23223223, 1.23323323, 1.23423423,\n",
       "       1.23523524, 1.23623624, 1.23723724, 1.23823824, 1.23923924,\n",
       "       1.24024024, 1.24124124, 1.24224224, 1.24324324, 1.24424424,\n",
       "       1.24524525, 1.24624625, 1.24724725, 1.24824825, 1.24924925,\n",
       "       1.25025025, 1.25125125, 1.25225225, 1.25325325, 1.25425425,\n",
       "       1.25525526, 1.25625626, 1.25725726, 1.25825826, 1.25925926,\n",
       "       1.26026026, 1.26126126, 1.26226226, 1.26326326, 1.26426426,\n",
       "       1.26526527, 1.26626627, 1.26726727, 1.26826827, 1.26926927,\n",
       "       1.27027027, 1.27127127, 1.27227227, 1.27327327, 1.27427427,\n",
       "       1.27527528, 1.27627628, 1.27727728, 1.27827828, 1.27927928,\n",
       "       1.28028028, 1.28128128, 1.28228228, 1.28328328, 1.28428428,\n",
       "       1.28528529, 1.28628629, 1.28728729, 1.28828829, 1.28928929,\n",
       "       1.29029029, 1.29129129, 1.29229229, 1.29329329, 1.29429429,\n",
       "       1.2952953 , 1.2962963 , 1.2972973 , 1.2982983 , 1.2992993 ,\n",
       "       1.3003003 , 1.3013013 , 1.3023023 , 1.3033033 , 1.3043043 ,\n",
       "       1.30530531, 1.30630631, 1.30730731, 1.30830831, 1.30930931,\n",
       "       1.31031031, 1.31131131, 1.31231231, 1.31331331, 1.31431431,\n",
       "       1.31531532, 1.31631632, 1.31731732, 1.31831832, 1.31931932,\n",
       "       1.32032032, 1.32132132, 1.32232232, 1.32332332, 1.32432432,\n",
       "       1.32532533, 1.32632633, 1.32732733, 1.32832833, 1.32932933,\n",
       "       1.33033033, 1.33133133, 1.33233233, 1.33333333, 1.33433433,\n",
       "       1.33533534, 1.33633634, 1.33733734, 1.33833834, 1.33933934,\n",
       "       1.34034034, 1.34134134, 1.34234234, 1.34334334, 1.34434434,\n",
       "       1.34534535, 1.34634635, 1.34734735, 1.34834835, 1.34934935,\n",
       "       1.35035035, 1.35135135, 1.35235235, 1.35335335, 1.35435435,\n",
       "       1.35535536, 1.35635636, 1.35735736, 1.35835836, 1.35935936,\n",
       "       1.36036036, 1.36136136, 1.36236236, 1.36336336, 1.36436436,\n",
       "       1.36536537, 1.36636637, 1.36736737, 1.36836837, 1.36936937,\n",
       "       1.37037037, 1.37137137, 1.37237237, 1.37337337, 1.37437437,\n",
       "       1.37537538, 1.37637638, 1.37737738, 1.37837838, 1.37937938,\n",
       "       1.38038038, 1.38138138, 1.38238238, 1.38338338, 1.38438438,\n",
       "       1.38538539, 1.38638639, 1.38738739, 1.38838839, 1.38938939,\n",
       "       1.39039039, 1.39139139, 1.39239239, 1.39339339, 1.39439439,\n",
       "       1.3953954 , 1.3963964 , 1.3973974 , 1.3983984 , 1.3993994 ,\n",
       "       1.4004004 , 1.4014014 , 1.4024024 , 1.4034034 , 1.4044044 ,\n",
       "       1.40540541, 1.40640641, 1.40740741, 1.40840841, 1.40940941,\n",
       "       1.41041041, 1.41141141, 1.41241241, 1.41341341, 1.41441441,\n",
       "       1.41541542, 1.41641642, 1.41741742, 1.41841842, 1.41941942,\n",
       "       1.42042042, 1.42142142, 1.42242242, 1.42342342, 1.42442442,\n",
       "       1.42542543, 1.42642643, 1.42742743, 1.42842843, 1.42942943,\n",
       "       1.43043043, 1.43143143, 1.43243243, 1.43343343, 1.43443443,\n",
       "       1.43543544, 1.43643644, 1.43743744, 1.43843844, 1.43943944,\n",
       "       1.44044044, 1.44144144, 1.44244244, 1.44344344, 1.44444444,\n",
       "       1.44544545, 1.44644645, 1.44744745, 1.44844845, 1.44944945,\n",
       "       1.45045045, 1.45145145, 1.45245245, 1.45345345, 1.45445445,\n",
       "       1.45545546, 1.45645646, 1.45745746, 1.45845846, 1.45945946,\n",
       "       1.46046046, 1.46146146, 1.46246246, 1.46346346, 1.46446446,\n",
       "       1.46546547, 1.46646647, 1.46746747, 1.46846847, 1.46946947,\n",
       "       1.47047047, 1.47147147, 1.47247247, 1.47347347, 1.47447447,\n",
       "       1.47547548, 1.47647648, 1.47747748, 1.47847848, 1.47947948,\n",
       "       1.48048048, 1.48148148, 1.48248248, 1.48348348, 1.48448448,\n",
       "       1.48548549, 1.48648649, 1.48748749, 1.48848849, 1.48948949,\n",
       "       1.49049049, 1.49149149, 1.49249249, 1.49349349, 1.49449449,\n",
       "       1.4954955 , 1.4964965 , 1.4974975 , 1.4984985 , 1.4994995 ,\n",
       "       1.5005005 , 1.5015015 , 1.5025025 , 1.5035035 , 1.5045045 ,\n",
       "       1.50550551, 1.50650651, 1.50750751, 1.50850851, 1.50950951,\n",
       "       1.51051051, 1.51151151, 1.51251251, 1.51351351, 1.51451451,\n",
       "       1.51551552, 1.51651652, 1.51751752, 1.51851852, 1.51951952,\n",
       "       1.52052052, 1.52152152, 1.52252252, 1.52352352, 1.52452452,\n",
       "       1.52552553, 1.52652653, 1.52752753, 1.52852853, 1.52952953,\n",
       "       1.53053053, 1.53153153, 1.53253253, 1.53353353, 1.53453453,\n",
       "       1.53553554, 1.53653654, 1.53753754, 1.53853854, 1.53953954,\n",
       "       1.54054054, 1.54154154, 1.54254254, 1.54354354, 1.54454454,\n",
       "       1.54554555, 1.54654655, 1.54754755, 1.54854855, 1.54954955,\n",
       "       1.55055055, 1.55155155, 1.55255255, 1.55355355, 1.55455455,\n",
       "       1.55555556, 1.55655656, 1.55755756, 1.55855856, 1.55955956,\n",
       "       1.56056056, 1.56156156, 1.56256256, 1.56356356, 1.56456456,\n",
       "       1.56556557, 1.56656657, 1.56756757, 1.56856857, 1.56956957,\n",
       "       1.57057057, 1.57157157, 1.57257257, 1.57357357, 1.57457457,\n",
       "       1.57557558, 1.57657658, 1.57757758, 1.57857858, 1.57957958,\n",
       "       1.58058058, 1.58158158, 1.58258258, 1.58358358, 1.58458458,\n",
       "       1.58558559, 1.58658659, 1.58758759, 1.58858859, 1.58958959,\n",
       "       1.59059059, 1.59159159, 1.59259259, 1.59359359, 1.59459459,\n",
       "       1.5955956 , 1.5965966 , 1.5975976 , 1.5985986 , 1.5995996 ,\n",
       "       1.6006006 , 1.6016016 , 1.6026026 , 1.6036036 , 1.6046046 ,\n",
       "       1.60560561, 1.60660661, 1.60760761, 1.60860861, 1.60960961,\n",
       "       1.61061061, 1.61161161, 1.61261261, 1.61361361, 1.61461461,\n",
       "       1.61561562, 1.61661662, 1.61761762, 1.61861862, 1.61961962,\n",
       "       1.62062062, 1.62162162, 1.62262262, 1.62362362, 1.62462462,\n",
       "       1.62562563, 1.62662663, 1.62762763, 1.62862863, 1.62962963,\n",
       "       1.63063063, 1.63163163, 1.63263263, 1.63363363, 1.63463463,\n",
       "       1.63563564, 1.63663664, 1.63763764, 1.63863864, 1.63963964,\n",
       "       1.64064064, 1.64164164, 1.64264264, 1.64364364, 1.64464464,\n",
       "       1.64564565, 1.64664665, 1.64764765, 1.64864865, 1.64964965,\n",
       "       1.65065065, 1.65165165, 1.65265265, 1.65365365, 1.65465465,\n",
       "       1.65565566, 1.65665666, 1.65765766, 1.65865866, 1.65965966,\n",
       "       1.66066066, 1.66166166, 1.66266266, 1.66366366, 1.66466466,\n",
       "       1.66566567, 1.66666667, 1.66766767, 1.66866867, 1.66966967,\n",
       "       1.67067067, 1.67167167, 1.67267267, 1.67367367, 1.67467467,\n",
       "       1.67567568, 1.67667668, 1.67767768, 1.67867868, 1.67967968,\n",
       "       1.68068068, 1.68168168, 1.68268268, 1.68368368, 1.68468468,\n",
       "       1.68568569, 1.68668669, 1.68768769, 1.68868869, 1.68968969,\n",
       "       1.69069069, 1.69169169, 1.69269269, 1.69369369, 1.69469469,\n",
       "       1.6956957 , 1.6966967 , 1.6976977 , 1.6986987 , 1.6996997 ,\n",
       "       1.7007007 , 1.7017017 , 1.7027027 , 1.7037037 , 1.7047047 ,\n",
       "       1.70570571, 1.70670671, 1.70770771, 1.70870871, 1.70970971,\n",
       "       1.71071071, 1.71171171, 1.71271271, 1.71371371, 1.71471471,\n",
       "       1.71571572, 1.71671672, 1.71771772, 1.71871872, 1.71971972,\n",
       "       1.72072072, 1.72172172, 1.72272272, 1.72372372, 1.72472472,\n",
       "       1.72572573, 1.72672673, 1.72772773, 1.72872873, 1.72972973,\n",
       "       1.73073073, 1.73173173, 1.73273273, 1.73373373, 1.73473473,\n",
       "       1.73573574, 1.73673674, 1.73773774, 1.73873874, 1.73973974,\n",
       "       1.74074074, 1.74174174, 1.74274274, 1.74374374, 1.74474474,\n",
       "       1.74574575, 1.74674675, 1.74774775, 1.74874875, 1.74974975,\n",
       "       1.75075075, 1.75175175, 1.75275275, 1.75375375, 1.75475475,\n",
       "       1.75575576, 1.75675676, 1.75775776, 1.75875876, 1.75975976,\n",
       "       1.76076076, 1.76176176, 1.76276276, 1.76376376, 1.76476476,\n",
       "       1.76576577, 1.76676677, 1.76776777, 1.76876877, 1.76976977,\n",
       "       1.77077077, 1.77177177, 1.77277277, 1.77377377, 1.77477477,\n",
       "       1.77577578, 1.77677678, 1.77777778, 1.77877878, 1.77977978,\n",
       "       1.78078078, 1.78178178, 1.78278278, 1.78378378, 1.78478478,\n",
       "       1.78578579, 1.78678679, 1.78778779, 1.78878879, 1.78978979,\n",
       "       1.79079079, 1.79179179, 1.79279279, 1.79379379, 1.79479479,\n",
       "       1.7957958 , 1.7967968 , 1.7977978 , 1.7987988 , 1.7997998 ,\n",
       "       1.8008008 , 1.8018018 , 1.8028028 , 1.8038038 , 1.8048048 ,\n",
       "       1.80580581, 1.80680681, 1.80780781, 1.80880881, 1.80980981,\n",
       "       1.81081081, 1.81181181, 1.81281281, 1.81381381, 1.81481481,\n",
       "       1.81581582, 1.81681682, 1.81781782, 1.81881882, 1.81981982,\n",
       "       1.82082082, 1.82182182, 1.82282282, 1.82382382, 1.82482482,\n",
       "       1.82582583, 1.82682683, 1.82782783, 1.82882883, 1.82982983,\n",
       "       1.83083083, 1.83183183, 1.83283283, 1.83383383, 1.83483483,\n",
       "       1.83583584, 1.83683684, 1.83783784, 1.83883884, 1.83983984,\n",
       "       1.84084084, 1.84184184, 1.84284284, 1.84384384, 1.84484484,\n",
       "       1.84584585, 1.84684685, 1.84784785, 1.84884885, 1.84984985,\n",
       "       1.85085085, 1.85185185, 1.85285285, 1.85385385, 1.85485485,\n",
       "       1.85585586, 1.85685686, 1.85785786, 1.85885886, 1.85985986,\n",
       "       1.86086086, 1.86186186, 1.86286286, 1.86386386, 1.86486486,\n",
       "       1.86586587, 1.86686687, 1.86786787, 1.86886887, 1.86986987,\n",
       "       1.87087087, 1.87187187, 1.87287287, 1.87387387, 1.87487487,\n",
       "       1.87587588, 1.87687688, 1.87787788, 1.87887888, 1.87987988,\n",
       "       1.88088088, 1.88188188, 1.88288288, 1.88388388, 1.88488488,\n",
       "       1.88588589, 1.88688689, 1.88788789, 1.88888889, 1.88988989,\n",
       "       1.89089089, 1.89189189, 1.89289289, 1.89389389, 1.89489489,\n",
       "       1.8958959 , 1.8968969 , 1.8978979 , 1.8988989 , 1.8998999 ,\n",
       "       1.9009009 , 1.9019019 , 1.9029029 , 1.9039039 , 1.9049049 ,\n",
       "       1.90590591, 1.90690691, 1.90790791, 1.90890891, 1.90990991,\n",
       "       1.91091091, 1.91191191, 1.91291291, 1.91391391, 1.91491491,\n",
       "       1.91591592, 1.91691692, 1.91791792, 1.91891892, 1.91991992,\n",
       "       1.92092092, 1.92192192, 1.92292292, 1.92392392, 1.92492492,\n",
       "       1.92592593, 1.92692693, 1.92792793, 1.92892893, 1.92992993,\n",
       "       1.93093093, 1.93193193, 1.93293293, 1.93393393, 1.93493493,\n",
       "       1.93593594, 1.93693694, 1.93793794, 1.93893894, 1.93993994,\n",
       "       1.94094094, 1.94194194, 1.94294294, 1.94394394, 1.94494494,\n",
       "       1.94594595, 1.94694695, 1.94794795, 1.94894895, 1.94994995,\n",
       "       1.95095095, 1.95195195, 1.95295295, 1.95395395, 1.95495495,\n",
       "       1.95595596, 1.95695696, 1.95795796, 1.95895896, 1.95995996,\n",
       "       1.96096096, 1.96196196, 1.96296296, 1.96396396, 1.96496496,\n",
       "       1.96596597, 1.96696697, 1.96796797, 1.96896897, 1.96996997,\n",
       "       1.97097097, 1.97197197, 1.97297297, 1.97397397, 1.97497497,\n",
       "       1.97597598, 1.97697698, 1.97797798, 1.97897898, 1.97997998,\n",
       "       1.98098098, 1.98198198, 1.98298298, 1.98398398, 1.98498498,\n",
       "       1.98598599, 1.98698699, 1.98798799, 1.98898899, 1.98998999,\n",
       "       1.99099099, 1.99199199, 1.99299299, 1.99399399, 1.99499499,\n",
       "       1.995996  , 1.996997  , 1.997998  , 1.998999  , 2.        ])"
      ]
     },
     "execution_count": 4,
     "metadata": {},
     "output_type": "execute_result"
    }
   ],
   "source": [
    "np.linspace(1,2,1000)"
   ]
  },
  {
   "cell_type": "markdown",
   "metadata": {},
   "source": [
    "## Descret value"
   ]
  },
  {
   "cell_type": "code",
   "execution_count": 6,
   "metadata": {},
   "outputs": [
    {
     "data": {
      "text/plain": [
       "array([1, 2, 3, 4, 5, 6, 7, 8, 9])"
      ]
     },
     "execution_count": 6,
     "metadata": {},
     "output_type": "execute_result"
    }
   ],
   "source": [
    "np.arange(1,10)"
   ]
  },
  {
   "cell_type": "markdown",
   "metadata": {},
   "source": [
    "# Categorical Data"
   ]
  },
  {
   "cell_type": "code",
   "execution_count": null,
   "metadata": {},
   "outputs": [],
   "source": [
    "[1, 2, 3, 4, 5, 6, 7, 8, 9] # ordinal data"
   ]
  },
  {
   "cell_type": "code",
   "execution_count": null,
   "metadata": {},
   "outputs": [],
   "source": [
    "['A',\"B\",\"C\",'D',...'Z'] # Ordinal"
   ]
  },
  {
   "cell_type": "code",
   "execution_count": null,
   "metadata": {},
   "outputs": [],
   "source": [
    "I,II,III,IV # Ordinal"
   ]
  },
  {
   "cell_type": "code",
   "execution_count": null,
   "metadata": {},
   "outputs": [],
   "source": [
    "['Apple',\"Mango\",'Orange'] # nominal data\n",
    "['Male',\"Female\"]"
   ]
  },
  {
   "cell_type": "markdown",
   "metadata": {},
   "source": [
    "# Regression"
   ]
  },
  {
   "cell_type": "code",
   "execution_count": 11,
   "metadata": {},
   "outputs": [
    {
     "name": "stdout",
     "output_type": "stream",
     "text": [
      "[ 0  1  2  3  4  5  6  7  8  9 10]\n",
      "[  0   1   4   9  16  25  36  49  64  81 100]\n"
     ]
    }
   ],
   "source": [
    "# Input = X\n",
    "# ouptu = Y\n",
    "x = np.array([0,1,2,3,4,5,6,7,8,9,10]) # input\n",
    "y = np.array([0,1,4,9,16,25,36,49,64,81,100])# output\n",
    "\n",
    "print(x)\n",
    "print(y)\n"
   ]
  },
  {
   "cell_type": "markdown",
   "metadata": {},
   "source": [
    "# visualization with matplotlib"
   ]
  },
  {
   "cell_type": "code",
   "execution_count": 12,
   "metadata": {},
   "outputs": [
    {
     "data": {
      "text/plain": [
       "<matplotlib.collections.PathCollection at 0x7f08dc13cb10>"
      ]
     },
     "execution_count": 12,
     "metadata": {},
     "output_type": "execute_result"
    },
    {
     "data": {
      "image/png": "[encoded data removed]",
      "text/plain": [
       "<Figure size 432x288 with 1 Axes>"
      ]
     },
     "metadata": {
      "needs_background": "light"
     },
     "output_type": "display_data"
    }
   ],
   "source": [
    "import matplotlib.pyplot as plt\n",
    "\n",
    "plt.scatter(x,y)"
   ]
  },
  {
   "cell_type": "code",
   "execution_count": 9,
   "metadata": {},
   "outputs": [
    {
     "data": {
      "text/plain": [
       "array([ 0,  1,  2,  3,  4,  5,  6,  7,  8,  9, 10])"
      ]
     },
     "execution_count": 9,
     "metadata": {},
     "output_type": "execute_result"
    }
   ],
   "source": [
    "x"
   ]
  },
  {
   "cell_type": "code",
   "execution_count": 13,
   "metadata": {},
   "outputs": [
    {
     "data": {
      "text/plain": [
       "array([  0,  45,  90, 135, 180, 225, 270, 315, 360, 405, 450])"
      ]
     },
     "execution_count": 13,
     "metadata": {},
     "output_type": "execute_result"
    }
   ],
   "source": [
    "# m = slop\n",
    "# b = intercept\n",
    "m = 45 # angle 45\n",
    "b = 0\n",
    "y1 = m * x + b\n",
    "# y = 45 * 0 + 0 [0]\n",
    "# y = 45 * 1 + 0 [0,45]\n",
    "# y = 45 * 2+ 0 [0,45,90]\n",
    "# # y = 45 * 10 + 0 [0,45,90...450]\n",
    "y1"
   ]
  },
  {
   "cell_type": "code",
   "execution_count": 16,
   "metadata": {},
   "outputs": [
    {
     "name": "stdout",
     "output_type": "stream",
     "text": [
      "[ 0  1  2  3  4  5  6  7  8  9 10]\n",
      "[  0   1   4   9  16  25  36  49  64  81 100]\n",
      "[  0  45  90 135 180 225 270 315 360 405 450]\n"
     ]
    }
   ],
   "source": [
    "print(x)\n",
    "print(y)\n",
    "print(y1)"
   ]
  },
  {
   "cell_type": "code",
   "execution_count": 17,
   "metadata": {},
   "outputs": [
    {
     "data": {
      "text/plain": [
       "[<matplotlib.lines.Line2D at 0x7f08e44c8750>]"
      ]
     },
     "execution_count": 17,
     "metadata": {},
     "output_type": "execute_result"
    },
    {
     "data": {
      "image/png": "[encoded data removed]",
      "text/plain": [
       "<Figure size 432x288 with 1 Axes>"
      ]
     },
     "metadata": {
      "needs_background": "light"
     },
     "output_type": "display_data"
    }
   ],
   "source": [
    "import matplotlib.pyplot as plt\n",
    "\n",
    "plt.scatter(x,y)\n",
    "plt.plot(x,y1)# predicted y"
   ]
  },
  {
   "cell_type": "code",
   "execution_count": 19,
   "metadata": {},
   "outputs": [
    {
     "data": {
      "text/plain": [
       "[<matplotlib.lines.Line2D at 0x7f08dc0276d0>]"
      ]
     },
     "execution_count": 19,
     "metadata": {},
     "output_type": "execute_result"
    },
    {
     "data": {
      "image/png": "[encoded data removed]",
      "text/plain": [
       "<Figure size 432x288 with 1 Axes>"
      ]
     },
     "metadata": {
      "needs_background": "light"
     },
     "output_type": "display_data"
    }
   ],
   "source": [
    "m = 5 # angle 45\n",
    "b = 0\n",
    "y1 = m * x + b\n",
    "\n",
    "plt.scatter(x,y)\n",
    "plt.plot(x,y1)# predicted y"
   ]
  },
  {
   "cell_type": "code",
   "execution_count": null,
   "metadata": {},
   "outputs": [],
   "source": [
    "#"
   ]
  }
 ],
 "metadata": {
  "kernelspec": {
   "display_name": "Python 3",
   "language": "python",
   "name": "python3"
  },
  "language_info": {
   "codemirror_mode": {
    "name": "ipython",
    "version": 3
   },
   "file_extension": ".py",
   "mimetype": "text/x-python",
   "name": "python",
   "nbconvert_exporter": "python",
   "pygments_lexer": "ipython3",
   "version": "3.7.6"
  }
 },
 "nbformat": 4,
 "nbformat_minor": 4
}
