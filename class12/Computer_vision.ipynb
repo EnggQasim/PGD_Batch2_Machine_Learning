{
 "cells": [
  {
   "cell_type": "markdown",
   "id": "0c502769",
   "metadata": {},
   "source": [
    "# Computer Vision"
   ]
  },
  {
   "cell_type": "markdown",
   "id": "fda70bac",
   "metadata": {},
   "source": [
    "* Create dataset\n",
    "* make folder train and test with cat and dog classes"
   ]
  },
  {
   "cell_type": "code",
   "execution_count": 17,
   "id": "46f7f221",
   "metadata": {},
   "outputs": [],
   "source": [
    "from tensorflow.keras.preprocessing.image import ImageDataGenerator"
   ]
  },
  {
   "cell_type": "code",
   "execution_count": 18,
   "id": "73ab5484",
   "metadata": {},
   "outputs": [],
   "source": [
    "import numpy as np"
   ]
  },
  {
   "cell_type": "markdown",
   "id": "c1894f9e",
   "metadata": {},
   "source": [
    "## Step2: Conver each class image into numpy tensor"
   ]
  },
  {
   "cell_type": "code",
   "execution_count": 3,
   "id": "8becd4f7",
   "metadata": {},
   "outputs": [],
   "source": [
    "train_data_gen = ImageDataGenerator(rescale=1.0/255)"
   ]
  },
  {
   "cell_type": "code",
   "execution_count": 4,
   "id": "7d8d98e4",
   "metadata": {},
   "outputs": [
    {
     "name": "stdout",
     "output_type": "stream",
     "text": [
      "Found 8 images belonging to 2 classes.\n"
     ]
    }
   ],
   "source": [
    "train_data = train_data_gen.flow_from_directory(\n",
    "    \"./data/train/\",\n",
    "    target_size=(60,60),\n",
    "    batch_size=1,\n",
    "    class_mode='binary'\n",
    ")"
   ]
  },
  {
   "cell_type": "raw",
   "id": "a0a8a06d",
   "metadata": {},
   "source": [
    "train_data[0]# select one image"
   ]
  },
  {
   "cell_type": "code",
   "execution_count": 5,
   "id": "7c2c9170",
   "metadata": {},
   "outputs": [
    {
     "name": "stdout",
     "output_type": "stream",
     "text": [
      "{'cat': 0, 'dog': 1}\n",
      "binary\n",
      "[0 0 0 0 1 1 1 1]\n"
     ]
    }
   ],
   "source": [
    "print(train_data.class_indices)\n",
    "print(train_data.class_mode)\n",
    "print(train_data.classes)\n"
   ]
  },
  {
   "cell_type": "markdown",
   "id": "451f1027",
   "metadata": {},
   "source": [
    "# now create network"
   ]
  },
  {
   "cell_type": "code",
   "execution_count": 6,
   "id": "a70b5b61",
   "metadata": {},
   "outputs": [
    {
     "data": {
      "text/plain": [
       "67500"
      ]
     },
     "execution_count": 6,
     "metadata": {},
     "output_type": "execute_result"
    }
   ],
   "source": [
    "150*150*3"
   ]
  },
  {
   "cell_type": "code",
   "execution_count": 7,
   "id": "a9f723c9",
   "metadata": {},
   "outputs": [],
   "source": [
    "from tensorflow.keras.models import Sequential\n",
    "from tensorflow.keras.layers import Dense, Flatten\n",
    "from tensorflow.keras.optimizers import Adam, SGD"
   ]
  },
  {
   "cell_type": "code",
   "execution_count": 8,
   "id": "fa35f3b3",
   "metadata": {},
   "outputs": [],
   "source": [
    "model = Sequential()\n",
    "model.add(Flatten())\n",
    "model.add(Dense(5000, activation='relu'))\n",
    "model.add(Dense(1, activation='sigmoid'))"
   ]
  },
  {
   "cell_type": "code",
   "execution_count": 9,
   "id": "541af9ab",
   "metadata": {},
   "outputs": [],
   "source": [
    "model.compile(loss='binary_crossentropy',\n",
    "             optimizer='adam',\n",
    "             metrics=['acc'])"
   ]
  },
  {
   "cell_type": "code",
   "execution_count": 12,
   "id": "98ddbcbe",
   "metadata": {},
   "outputs": [
    {
     "name": "stdout",
     "output_type": "stream",
     "text": [
      "Epoch 1/10\n",
      "8/8 [==============================] - 2s 256ms/step - loss: 0.8405 - acc: 0.8750\n",
      "Epoch 2/10\n",
      "8/8 [==============================] - 2s 254ms/step - loss: 1.6543 - acc: 0.8750\n",
      "Epoch 3/10\n",
      "8/8 [==============================] - 2s 254ms/step - loss: 3.8066 - acc: 0.7500\n",
      "Epoch 4/10\n",
      "8/8 [==============================] - 2s 255ms/step - loss: 1.9130 - acc: 0.8750\n",
      "Epoch 5/10\n",
      "8/8 [==============================] - 2s 258ms/step - loss: 5.4964 - acc: 0.6250\n",
      "Epoch 6/10\n",
      "8/8 [==============================] - 2s 254ms/step - loss: 0.6539 - acc: 0.7500\n",
      "Epoch 7/10\n",
      "8/8 [==============================] - 2s 255ms/step - loss: 1.4812e-05 - acc: 1.0000\n",
      "Epoch 8/10\n",
      "8/8 [==============================] - 2s 268ms/step - loss: 0.4569 - acc: 0.8750\n",
      "Epoch 9/10\n",
      "8/8 [==============================] - 2s 270ms/step - loss: 0.2029 - acc: 0.8750\n",
      "Epoch 10/10\n",
      "8/8 [==============================] - 2s 252ms/step - loss: 2.4809e-09 - acc: 1.0000\n"
     ]
    }
   ],
   "source": [
    "hist = model.fit(train_data,epochs=10)"
   ]
  },
  {
   "cell_type": "markdown",
   "id": "f0f00a66",
   "metadata": {},
   "source": [
    "# Testing"
   ]
  },
  {
   "cell_type": "code",
   "execution_count": 13,
   "id": "81479fd7",
   "metadata": {},
   "outputs": [
    {
     "name": "stdout",
     "output_type": "stream",
     "text": [
      "Found 2 images belonging to 2 classes.\n"
     ]
    }
   ],
   "source": [
    "test_data = train_data_gen.flow_from_directory(\n",
    "    \"./data/test/\",\n",
    "    target_size=(60,60),\n",
    "    batch_size=1,\n",
    "    class_mode='binary'\n",
    ")"
   ]
  },
  {
   "cell_type": "code",
   "execution_count": 27,
   "id": "8156e76f",
   "metadata": {},
   "outputs": [
    {
     "data": {
      "text/plain": [
       "array([[1.4378525e-17],\n",
       "       [9.8320687e-01]], dtype=float32)"
      ]
     },
     "execution_count": 27,
     "metadata": {},
     "output_type": "execute_result"
    }
   ],
   "source": [
    "Y = model.predict(test_data)\n",
    "Y"
   ]
  },
  {
   "cell_type": "code",
   "execution_count": 20,
   "id": "4d928a7f",
   "metadata": {},
   "outputs": [
    {
     "data": {
      "text/plain": [
       "array([['Dog'],\n",
       "       ['Dog']], dtype='<U3')"
      ]
     },
     "execution_count": 20,
     "metadata": {},
     "output_type": "execute_result"
    }
   ],
   "source": [
    "np.where(Y>0, \"Dog\",\"Cat\")"
   ]
  },
  {
   "cell_type": "markdown",
   "id": "a78ec06f",
   "metadata": {},
   "source": [
    "# predict on image "
   ]
  },
  {
   "cell_type": "code",
   "execution_count": 22,
   "id": "100060a0",
   "metadata": {},
   "outputs": [
    {
     "name": "stdout",
     "output_type": "stream",
     "text": [
      "WARNING:tensorflow:Model was constructed with shape (None, None, None, None) for input KerasTensor(type_spec=TensorSpec(shape=(None, None, None, None), dtype=tf.float32, name='flatten_input'), name='flatten_input', description=\"created by layer 'flatten_input'\"), but it was called on an input with incompatible shape (None, 10800).\n"
     ]
    },
    {
     "data": {
      "text/plain": [
       "array([[1.]], dtype=float32)"
      ]
     },
     "execution_count": 22,
     "metadata": {},
     "output_type": "execute_result"
    }
   ],
   "source": [
    "from tensorflow.keras.preprocessing import image\n",
    "import numpy as np\n",
    "img = image.load_img(\"data/train/dog/2.jpeg\", target_size=(60,60))\n",
    "x= image.img_to_array(img)/255\n",
    "x = x.reshape(1,-1)\n",
    "model.predict(x)"
   ]
  },
  {
   "cell_type": "code",
   "execution_count": 24,
   "id": "79a32323",
   "metadata": {},
   "outputs": [
    {
     "data": {
      "text/plain": [
       "array([[ True]])"
      ]
     },
     "execution_count": 24,
     "metadata": {},
     "output_type": "execute_result"
    }
   ],
   "source": [
    "from tensorflow.keras.preprocessing import image\n",
    "import numpy as np\n",
    "img = image.load_img(\"data/train/cat/2.jpeg\", target_size=(60,60))\n",
    "x= image.img_to_array(img)/255\n",
    "x = x.reshape(1,-1)\n",
    "model.predict(x)>0"
   ]
  },
  {
   "cell_type": "markdown",
   "id": "3940ff58",
   "metadata": {},
   "source": [
    "# Attendance"
   ]
  },
  {
   "cell_type": "code",
   "execution_count": 28,
   "id": "9eeccbee",
   "metadata": {},
   "outputs": [
    {
     "name": "stdout",
     "output_type": "stream",
     "text": [
      "18\n"
     ]
    },
    {
     "data": {
      "text/html": [
       "<div>\n",
       "<style scoped>\n",
       "    .dataframe tbody tr th:only-of-type {\n",
       "        vertical-align: middle;\n",
       "    }\n",
       "\n",
       "    .dataframe tbody tr th {\n",
       "        vertical-align: top;\n",
       "    }\n",
       "\n",
       "    .dataframe thead th {\n",
       "        text-align: right;\n",
       "    }\n",
       "</style>\n",
       "<table border=\"1\" class=\"dataframe\">\n",
       "  <thead>\n",
       "    <tr style=\"text-align: right;\">\n",
       "      <th></th>\n",
       "      <th>cnic</th>\n",
       "    </tr>\n",
       "  </thead>\n",
       "  <tbody>\n",
       "    <tr>\n",
       "      <th>0</th>\n",
       "      <td>1510120026221</td>\n",
       "    </tr>\n",
       "    <tr>\n",
       "      <th>1</th>\n",
       "      <td>4210176950677</td>\n",
       "    </tr>\n",
       "    <tr>\n",
       "      <th>2</th>\n",
       "      <td>1234567890123</td>\n",
       "    </tr>\n",
       "    <tr>\n",
       "      <th>3</th>\n",
       "      <td>4230174256393</td>\n",
       "    </tr>\n",
       "    <tr>\n",
       "      <th>4</th>\n",
       "      <td>4220186465696</td>\n",
       "    </tr>\n",
       "    <tr>\n",
       "      <th>5</th>\n",
       "      <td>3310541597331</td>\n",
       "    </tr>\n",
       "    <tr>\n",
       "      <th>6</th>\n",
       "      <td>4130311530273</td>\n",
       "    </tr>\n",
       "    <tr>\n",
       "      <th>7</th>\n",
       "      <td>4210117498405</td>\n",
       "    </tr>\n",
       "    <tr>\n",
       "      <th>8</th>\n",
       "      <td>4230123587879</td>\n",
       "    </tr>\n",
       "    <tr>\n",
       "      <th>9</th>\n",
       "      <td>4130485196673</td>\n",
       "    </tr>\n",
       "    <tr>\n",
       "      <th>10</th>\n",
       "      <td>4220171026219</td>\n",
       "    </tr>\n",
       "    <tr>\n",
       "      <th>11</th>\n",
       "      <td>4250189782769</td>\n",
       "    </tr>\n",
       "    <tr>\n",
       "      <th>12</th>\n",
       "      <td>4230123587896</td>\n",
       "    </tr>\n",
       "    <tr>\n",
       "      <th>13</th>\n",
       "      <td>4210168710111</td>\n",
       "    </tr>\n",
       "    <tr>\n",
       "      <th>14</th>\n",
       "      <td>4250182298545</td>\n",
       "    </tr>\n",
       "    <tr>\n",
       "      <th>15</th>\n",
       "      <td>4220122191357</td>\n",
       "    </tr>\n",
       "    <tr>\n",
       "      <th>16</th>\n",
       "      <td>4240180561365</td>\n",
       "    </tr>\n",
       "    <tr>\n",
       "      <th>17</th>\n",
       "      <td>5440053241639</td>\n",
       "    </tr>\n",
       "  </tbody>\n",
       "</table>\n",
       "</div>"
      ],
      "text/plain": [
       "             cnic\n",
       "0   1510120026221\n",
       "1   4210176950677\n",
       "2   1234567890123\n",
       "3   4230174256393\n",
       "4   4220186465696\n",
       "5   3310541597331\n",
       "6   4130311530273\n",
       "7   4210117498405\n",
       "8   4230123587879\n",
       "9   4130485196673\n",
       "10  4220171026219\n",
       "11  4250189782769\n",
       "12  4230123587896\n",
       "13  4210168710111\n",
       "14  4250182298545\n",
       "15  4220122191357\n",
       "16  4240180561365\n",
       "17  5440053241639"
      ]
     },
     "execution_count": 28,
     "metadata": {},
     "output_type": "execute_result"
    }
   ],
   "source": [
    "import re\n",
    "import pandas as pd\n",
    "x = \"\"\"\n",
    "Dr Najeed Ahmed Khan4:20 PM\n",
    "Ok we will look at them in the future IA.\n",
    "Syed Zaim Nazir4:23 PM\n",
    "Thanks Dr Najeed\n",
    "Nadir Ali4:23 PM\n",
    "Thanks\n",
    "Imran Ali4:52 PM\n",
    "4210176950677\n",
    "Syed Sajjad Ali Shah4:52 PM\n",
    "1510120026221\n",
    "Kenneth Fahad4:53 PM\n",
    "3310541597331\n",
    "Muhammad Fahad4:54 PM\n",
    "4210117498405\n",
    "Syed Umair Ahmed5:03 PM\n",
    "4130485196673\n",
    "Syed Mohammad Asad Asad5:04 PM\n",
    "4240180561365\n",
    "TARIQ JAMIL5:04 PM\n",
    "42501-8229854-5\n",
    "Agha Zohaib5:04 PM\n",
    "4210168710111\n",
    "Bilal Uddin5:04 PM\n",
    "4220122191357\n",
    "Rizwan Ali5:04 PM\n",
    "4230174256393\n",
    "MUSTAFA NADIMI5:04 PM\n",
    "5440053241639\n",
    "Zoya Ansari5:05 PM\n",
    "4220186465696\n",
    "syed daniyal5:05 PM\n",
    "4250189782769\n",
    "Nadir Ali5:06 PM\n",
    "4130311530273\n",
    "Madiha Obaid Obaid5:06 PM\n",
    "42201 05920780\n",
    "Syed Abbas Abbas5:11 PM\n",
    "1234567890123\n",
    "Syed Zaim Nazir5:11 PM\n",
    "4220171026219\n",
    "Syeda Zehra Nadeem5:39 PM\n",
    "42301235878796\n",
    "Syeda Zehra Nadeem5:49 PM\n",
    "Correction: 4230123587896\n",
    "Imran Ali5:50 PM\n",
    "4210176950677\n",
    "mcc-qjtf-rix\n",
    "\"\"\".replace(\"-\",\"\")\n",
    "cnic = pd.DataFrame(list(set(re.findall('\\d{13}',x))),columns=['cnic'])\n",
    "print(len(cnic))\n",
    "cnic"
   ]
  },
  {
   "cell_type": "code",
   "execution_count": null,
   "id": "7cb36a30",
   "metadata": {},
   "outputs": [],
   "source": []
  }
 ],
 "metadata": {
  "kernelspec": {
   "display_name": "Python 3",
   "language": "python",
   "name": "python3"
  },
  "language_info": {
   "codemirror_mode": {
    "name": "ipython",
    "version": 3
   },
   "file_extension": ".py",
   "mimetype": "text/x-python",
   "name": "python",
   "nbconvert_exporter": "python",
   "pygments_lexer": "ipython3",
   "version": "3.7.15"
  }
 },
 "nbformat": 4,
 "nbformat_minor": 5
}
