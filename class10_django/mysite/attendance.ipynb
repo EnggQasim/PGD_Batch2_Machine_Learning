{
 "cells": [
  {
   "cell_type": "code",
   "execution_count": null,
   "id": "d84b0013",
   "metadata": {},
   "outputs": [],
   "source": [
    "import numpy as np\n",
    "import pandas as pd\n",
    "import re\n",
    "\n",
    "x = \"\"\"\n",
    "Farrukh Jalil4:42 PM\n",
    "4210113978763\n",
    "Imran Ali4:42 PM\n",
    "4210176950677\n",
    "TARIQ JAMIL4:43 PM\n",
    "42501-8229854-5\n",
    "Muhammad Fahad4:43 PM\n",
    "4210117498405\n",
    "Rizwan Ali4:43 PM\n",
    "4230174256393\n",
    "Javeria Abbasi4:43 PM\n",
    "4220140843098\n",
    "Syed Sajjad Ali Shah4:43 PM\n",
    "1510120026221\n",
    "Syeda Zehra Nadeem4:44 PM\n",
    "4230123587896\n",
    "Nadir Ali4:44 PM\n",
    "4130311530273\n",
    "MUSTAFA NADIMI4:44 PM\n",
    "9876543210000\n",
    "Syed Mohammad Asad Asad4:47 PM\n",
    "4240180561365\n",
    "syed daniyal4:49 PM\n",
    "4250189782769\n",
    "Syed Abbas Abbas4:51 PM\n",
    "1234567890123\n",
    "Ahmed Saud5:59 PM\n",
    "4210176752885\n",
    "Bilal Uddin5:59 PM\n",
    "4220122191357\n",
    "Muneeb Abdul Rauf5:59 PM\n",
    "4230181544787\n",
    "Syed Umair Ahmed5:59 PM\n",
    "4130485196673\n",
    "Syed Zaim Nazir5:59 PM\n",
    "4220171026219\n",
    "Agha Zohaib5:59 PM\n",
    "4210168710111\n",
    "Amna Shahid5:59 PM\n",
    "3460348242756\n",
    "Kenneth Fahad5:59 PM\n",
    "3310541597331\n",
    "MUSTAFA NADIMI6:00 PM\n",
    "5440053241639\n",
    "mcc-qjtf-rix\n",
    "\"\"\".replace(\"-\",\"\")"
   ]
  }
 ],
 "metadata": {
  "kernelspec": {
   "display_name": "Python 3",
   "language": "python",
   "name": "python3"
  },
  "language_info": {
   "codemirror_mode": {
    "name": "ipython",
    "version": 3
   },
   "file_extension": ".py",
   "mimetype": "text/x-python",
   "name": "python",
   "nbconvert_exporter": "python",
   "pygments_lexer": "ipython3",
   "version": "3.7.15"
  }
 },
 "nbformat": 4,
 "nbformat_minor": 5
}
